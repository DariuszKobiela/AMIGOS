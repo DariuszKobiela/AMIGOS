{
  "nbformat": 4,
  "nbformat_minor": 0,
  "metadata": {
    "colab": {
      "name": "Deep_learning_model.ipynb",
      "provenance": [],
      "collapsed_sections": [
        "A4cYCc7bsCP1",
        "yVCi4BrwsiKz"
      ]
    },
    "kernelspec": {
      "name": "python3",
      "display_name": "Python 3"
    }
  },
  "cells": [
    {
      "cell_type": "code",
      "metadata": {
        "colab": {
          "base_uri": "https://localhost:8080/"
        },
        "id": "RFJUKqlgqZmq",
        "outputId": "f71bd6fc-639c-4220-a2ff-1168f832c0e3"
      },
      "source": [
        "from google.colab import drive\r\n",
        "drive.mount('/content/drive')"
      ],
      "execution_count": 1,
      "outputs": [
        {
          "output_type": "stream",
          "text": [
            "Mounted at /content/drive\n"
          ],
          "name": "stdout"
        }
      ]
    },
    {
      "cell_type": "code",
      "metadata": {
        "id": "QRTz4pVNqnlC"
      },
      "source": [
        "root_directory = \"/content/drive/My Drive/AMIGOS/\""
      ],
      "execution_count": 2,
      "outputs": []
    },
    {
      "cell_type": "code",
      "metadata": {
        "id": "1YcPbN8sqyaq"
      },
      "source": [
        "# imports for data preparation and visualization\r\n",
        "import pandas as pd\r\n",
        "import glob\r\n",
        "import os\r\n",
        "import seaborn as sns\r\n",
        "import matplotlib.pyplot as plt"
      ],
      "execution_count": 48,
      "outputs": []
    },
    {
      "cell_type": "code",
      "metadata": {
        "id": "MgUUfWyHyXyd"
      },
      "source": [
        "#imports for modelling\r\n",
        "import pandas as pd\r\n",
        "from collections import Counter\r\n",
        "from sklearn.preprocessing import LabelEncoder, StandardScaler\r\n",
        "import tensorflow\r\n",
        "from tensorflow.keras.models import Sequential\r\n",
        "from tensorflow.keras.layers import InputLayer\r\n",
        "from tensorflow.keras.layers import Dense\r\n",
        "from sklearn.metrics import classification_report\r\n",
        "from sklearn.model_selection import train_test_split\r\n",
        "from tensorflow.keras.utils import to_categorical, plot_model\r\n",
        "import numpy as np"
      ],
      "execution_count": 42,
      "outputs": []
    },
    {
      "cell_type": "markdown",
      "metadata": {
        "id": "A4cYCc7bsCP1"
      },
      "source": [
        "# DATA PREPARATION"
      ]
    },
    {
      "cell_type": "code",
      "metadata": {
        "colab": {
          "base_uri": "https://localhost:8080/",
          "height": 519
        },
        "id": "BcftICmiqytP",
        "outputId": "4f535aa2-1f7c-45c1-dc72-c0def0d91e2e"
      },
      "source": [
        "path = root_directory+'divided_data_skipped'\r\n",
        "#print(filenames)\r\n",
        "\r\n",
        "list_of_values_lists = []\r\n",
        "counter = 0\r\n",
        "\r\n",
        "emotion_files = ['anger', 'disgust', 'fear', 'happiness', 'neutral', 'sadness', 'surprise']\r\n",
        "\r\n",
        "\r\n",
        "for emotion_file in emotion_files:\r\n",
        "    \r\n",
        "    emotion = emotion_file\r\n",
        "    #filenames = glob.glob(path + emotion_file + '/*.csv')\r\n",
        "    filenames = path+emotion_file+'/*.csv'\r\n",
        "    \r\n",
        "    for filename in filenames:\r\n",
        "        counter += 1\r\n",
        "        if filename.endswith(\"ECG.csv\"):\r\n",
        "            #print('ECG file')\r\n",
        "            df_ECG = pd.read_csv(filename)\r\n",
        "            ECG_RA_median = df_ECG['ECG_RA'].median()\r\n",
        "            ECG_LA_median = df_ECG['ECG_LA'].median()  \r\n",
        "\r\n",
        "        elif filename.endswith(\"EEG.csv\"):\r\n",
        "            #print('EEG file')\r\n",
        "            df_EEG = pd.read_csv(filename)\r\n",
        "            #list_EEG = []\r\n",
        "            EEG_AF3_median = df_EEG['AF3'].median()\r\n",
        "            EEG_F7_median = df_EEG['F7'].median()\r\n",
        "            EEG_F3_median = df_EEG['F3'].median()\r\n",
        "            EEG_FC5_median = df_EEG['FC5'].median()\r\n",
        "            EEG_T7_median = df_EEG['T7'].median()\r\n",
        "            EEG_P7_median = df_EEG['P7'].median()\r\n",
        "            EEG_01_median = df_EEG['01'].median()\r\n",
        "            EEG_02_median = df_EEG['02'].median()\r\n",
        "            EEG_P8_median = df_EEG['P8'].median()\r\n",
        "            EEG_T8_median = df_EEG['T8'].median()\r\n",
        "            EEG_FC6_median = df_EEG['FC6'].median()\r\n",
        "            EEG_F4_median = df_EEG['F4'].median()\r\n",
        "            EEG_F8_median = df_EEG['F8'].median()\r\n",
        "            EEG_AF4_median = df_EEG['AF4'].median()\r\n",
        "            #df_EEG_cumulated = pd.DataFrame(list_EEG, columns=['EEG medians'])\r\n",
        "            #EEG_value = df_EEG_cumulated['EEG medians'].mean()\r\n",
        "\r\n",
        "        else:\r\n",
        "            #print('GSR file')\r\n",
        "            df_GSR = pd.read_csv(filename)\r\n",
        "            GSR_median = df_GSR['GSR_RAW'].median()\r\n",
        "\r\n",
        "        if counter%3 == 0:\r\n",
        "            list_of_values_lists.append([ECG_RA_median, ECG_LA_median, GSR_median, \r\n",
        "                                         EEG_AF3_median, EEG_F7_median, EEG_F3_median,\r\n",
        "                                         EEG_FC5_median, EEG_T7_median, EEG_P7_median,\r\n",
        "                                         EEG_01_median, EEG_02_median, EEG_P8_median,\r\n",
        "                                         EEG_T8_median, EEG_FC6_median, EEG_F4_median,\r\n",
        "                                         EEG_F8_median, EEG_AF4_median, emotion])\r\n",
        "        \r\n",
        "final_data = pd.DataFrame(list_of_values_lists, columns=['ECG_RA', 'ECG_LA', 'GSR', 'AF3', 'F7', 'F3', 'FC5', 'T7', 'P7', '01', '02', 'P8', 'T8', 'FC6', 'F4', 'F8', 'AF4', 'emotion'])"
      ],
      "execution_count": null,
      "outputs": [
        {
          "output_type": "error",
          "ename": "ParserError",
          "evalue": "ignored",
          "traceback": [
            "\u001b[0;31m---------------------------------------------------------------------------\u001b[0m",
            "\u001b[0;31mParserError\u001b[0m                               Traceback (most recent call last)",
            "\u001b[0;32m<ipython-input-11-7ce7f5e65d8c>\u001b[0m in \u001b[0;36m<module>\u001b[0;34m()\u001b[0m\n\u001b[1;32m     45\u001b[0m         \u001b[0;32melse\u001b[0m\u001b[0;34m:\u001b[0m\u001b[0;34m\u001b[0m\u001b[0;34m\u001b[0m\u001b[0m\n\u001b[1;32m     46\u001b[0m             \u001b[0;31m#print('GSR file')\u001b[0m\u001b[0;34m\u001b[0m\u001b[0;34m\u001b[0m\u001b[0;34m\u001b[0m\u001b[0m\n\u001b[0;32m---> 47\u001b[0;31m             \u001b[0mdf_GSR\u001b[0m \u001b[0;34m=\u001b[0m \u001b[0mpd\u001b[0m\u001b[0;34m.\u001b[0m\u001b[0mread_csv\u001b[0m\u001b[0;34m(\u001b[0m\u001b[0mfilename\u001b[0m\u001b[0;34m)\u001b[0m\u001b[0;34m\u001b[0m\u001b[0;34m\u001b[0m\u001b[0m\n\u001b[0m\u001b[1;32m     48\u001b[0m             \u001b[0mGSR_median\u001b[0m \u001b[0;34m=\u001b[0m \u001b[0mdf_GSR\u001b[0m\u001b[0;34m[\u001b[0m\u001b[0;34m'GSR_RAW'\u001b[0m\u001b[0;34m]\u001b[0m\u001b[0;34m.\u001b[0m\u001b[0mmedian\u001b[0m\u001b[0;34m(\u001b[0m\u001b[0;34m)\u001b[0m\u001b[0;34m\u001b[0m\u001b[0;34m\u001b[0m\u001b[0m\n\u001b[1;32m     49\u001b[0m \u001b[0;34m\u001b[0m\u001b[0m\n",
            "\u001b[0;32m/usr/local/lib/python3.6/dist-packages/pandas/io/parsers.py\u001b[0m in \u001b[0;36mread_csv\u001b[0;34m(filepath_or_buffer, sep, delimiter, header, names, index_col, usecols, squeeze, prefix, mangle_dupe_cols, dtype, engine, converters, true_values, false_values, skipinitialspace, skiprows, skipfooter, nrows, na_values, keep_default_na, na_filter, verbose, skip_blank_lines, parse_dates, infer_datetime_format, keep_date_col, date_parser, dayfirst, cache_dates, iterator, chunksize, compression, thousands, decimal, lineterminator, quotechar, quoting, doublequote, escapechar, comment, encoding, dialect, error_bad_lines, warn_bad_lines, delim_whitespace, low_memory, memory_map, float_precision)\u001b[0m\n\u001b[1;32m    686\u001b[0m     )\n\u001b[1;32m    687\u001b[0m \u001b[0;34m\u001b[0m\u001b[0m\n\u001b[0;32m--> 688\u001b[0;31m     \u001b[0;32mreturn\u001b[0m \u001b[0m_read\u001b[0m\u001b[0;34m(\u001b[0m\u001b[0mfilepath_or_buffer\u001b[0m\u001b[0;34m,\u001b[0m \u001b[0mkwds\u001b[0m\u001b[0;34m)\u001b[0m\u001b[0;34m\u001b[0m\u001b[0;34m\u001b[0m\u001b[0m\n\u001b[0m\u001b[1;32m    689\u001b[0m \u001b[0;34m\u001b[0m\u001b[0m\n\u001b[1;32m    690\u001b[0m \u001b[0;34m\u001b[0m\u001b[0m\n",
            "\u001b[0;32m/usr/local/lib/python3.6/dist-packages/pandas/io/parsers.py\u001b[0m in \u001b[0;36m_read\u001b[0;34m(filepath_or_buffer, kwds)\u001b[0m\n\u001b[1;32m    452\u001b[0m \u001b[0;34m\u001b[0m\u001b[0m\n\u001b[1;32m    453\u001b[0m     \u001b[0;31m# Create the parser.\u001b[0m\u001b[0;34m\u001b[0m\u001b[0;34m\u001b[0m\u001b[0;34m\u001b[0m\u001b[0m\n\u001b[0;32m--> 454\u001b[0;31m     \u001b[0mparser\u001b[0m \u001b[0;34m=\u001b[0m \u001b[0mTextFileReader\u001b[0m\u001b[0;34m(\u001b[0m\u001b[0mfp_or_buf\u001b[0m\u001b[0;34m,\u001b[0m \u001b[0;34m**\u001b[0m\u001b[0mkwds\u001b[0m\u001b[0;34m)\u001b[0m\u001b[0;34m\u001b[0m\u001b[0;34m\u001b[0m\u001b[0m\n\u001b[0m\u001b[1;32m    455\u001b[0m \u001b[0;34m\u001b[0m\u001b[0m\n\u001b[1;32m    456\u001b[0m     \u001b[0;32mif\u001b[0m \u001b[0mchunksize\u001b[0m \u001b[0;32mor\u001b[0m \u001b[0miterator\u001b[0m\u001b[0;34m:\u001b[0m\u001b[0;34m\u001b[0m\u001b[0;34m\u001b[0m\u001b[0m\n",
            "\u001b[0;32m/usr/local/lib/python3.6/dist-packages/pandas/io/parsers.py\u001b[0m in \u001b[0;36m__init__\u001b[0;34m(self, f, engine, **kwds)\u001b[0m\n\u001b[1;32m    946\u001b[0m             \u001b[0mself\u001b[0m\u001b[0;34m.\u001b[0m\u001b[0moptions\u001b[0m\u001b[0;34m[\u001b[0m\u001b[0;34m\"has_index_names\"\u001b[0m\u001b[0;34m]\u001b[0m \u001b[0;34m=\u001b[0m \u001b[0mkwds\u001b[0m\u001b[0;34m[\u001b[0m\u001b[0;34m\"has_index_names\"\u001b[0m\u001b[0;34m]\u001b[0m\u001b[0;34m\u001b[0m\u001b[0;34m\u001b[0m\u001b[0m\n\u001b[1;32m    947\u001b[0m \u001b[0;34m\u001b[0m\u001b[0m\n\u001b[0;32m--> 948\u001b[0;31m         \u001b[0mself\u001b[0m\u001b[0;34m.\u001b[0m\u001b[0m_make_engine\u001b[0m\u001b[0;34m(\u001b[0m\u001b[0mself\u001b[0m\u001b[0;34m.\u001b[0m\u001b[0mengine\u001b[0m\u001b[0;34m)\u001b[0m\u001b[0;34m\u001b[0m\u001b[0;34m\u001b[0m\u001b[0m\n\u001b[0m\u001b[1;32m    949\u001b[0m \u001b[0;34m\u001b[0m\u001b[0m\n\u001b[1;32m    950\u001b[0m     \u001b[0;32mdef\u001b[0m \u001b[0mclose\u001b[0m\u001b[0;34m(\u001b[0m\u001b[0mself\u001b[0m\u001b[0;34m)\u001b[0m\u001b[0;34m:\u001b[0m\u001b[0;34m\u001b[0m\u001b[0;34m\u001b[0m\u001b[0m\n",
            "\u001b[0;32m/usr/local/lib/python3.6/dist-packages/pandas/io/parsers.py\u001b[0m in \u001b[0;36m_make_engine\u001b[0;34m(self, engine)\u001b[0m\n\u001b[1;32m   1178\u001b[0m     \u001b[0;32mdef\u001b[0m \u001b[0m_make_engine\u001b[0m\u001b[0;34m(\u001b[0m\u001b[0mself\u001b[0m\u001b[0;34m,\u001b[0m \u001b[0mengine\u001b[0m\u001b[0;34m=\u001b[0m\u001b[0;34m\"c\"\u001b[0m\u001b[0;34m)\u001b[0m\u001b[0;34m:\u001b[0m\u001b[0;34m\u001b[0m\u001b[0;34m\u001b[0m\u001b[0m\n\u001b[1;32m   1179\u001b[0m         \u001b[0;32mif\u001b[0m \u001b[0mengine\u001b[0m \u001b[0;34m==\u001b[0m \u001b[0;34m\"c\"\u001b[0m\u001b[0;34m:\u001b[0m\u001b[0;34m\u001b[0m\u001b[0;34m\u001b[0m\u001b[0m\n\u001b[0;32m-> 1180\u001b[0;31m             \u001b[0mself\u001b[0m\u001b[0;34m.\u001b[0m\u001b[0m_engine\u001b[0m \u001b[0;34m=\u001b[0m \u001b[0mCParserWrapper\u001b[0m\u001b[0;34m(\u001b[0m\u001b[0mself\u001b[0m\u001b[0;34m.\u001b[0m\u001b[0mf\u001b[0m\u001b[0;34m,\u001b[0m \u001b[0;34m**\u001b[0m\u001b[0mself\u001b[0m\u001b[0;34m.\u001b[0m\u001b[0moptions\u001b[0m\u001b[0;34m)\u001b[0m\u001b[0;34m\u001b[0m\u001b[0;34m\u001b[0m\u001b[0m\n\u001b[0m\u001b[1;32m   1181\u001b[0m         \u001b[0;32melse\u001b[0m\u001b[0;34m:\u001b[0m\u001b[0;34m\u001b[0m\u001b[0;34m\u001b[0m\u001b[0m\n\u001b[1;32m   1182\u001b[0m             \u001b[0;32mif\u001b[0m \u001b[0mengine\u001b[0m \u001b[0;34m==\u001b[0m \u001b[0;34m\"python\"\u001b[0m\u001b[0;34m:\u001b[0m\u001b[0;34m\u001b[0m\u001b[0;34m\u001b[0m\u001b[0m\n",
            "\u001b[0;32m/usr/local/lib/python3.6/dist-packages/pandas/io/parsers.py\u001b[0m in \u001b[0;36m__init__\u001b[0;34m(self, src, **kwds)\u001b[0m\n\u001b[1;32m   2008\u001b[0m         \u001b[0mkwds\u001b[0m\u001b[0;34m[\u001b[0m\u001b[0;34m\"usecols\"\u001b[0m\u001b[0;34m]\u001b[0m \u001b[0;34m=\u001b[0m \u001b[0mself\u001b[0m\u001b[0;34m.\u001b[0m\u001b[0musecols\u001b[0m\u001b[0;34m\u001b[0m\u001b[0;34m\u001b[0m\u001b[0m\n\u001b[1;32m   2009\u001b[0m \u001b[0;34m\u001b[0m\u001b[0m\n\u001b[0;32m-> 2010\u001b[0;31m         \u001b[0mself\u001b[0m\u001b[0;34m.\u001b[0m\u001b[0m_reader\u001b[0m \u001b[0;34m=\u001b[0m \u001b[0mparsers\u001b[0m\u001b[0;34m.\u001b[0m\u001b[0mTextReader\u001b[0m\u001b[0;34m(\u001b[0m\u001b[0msrc\u001b[0m\u001b[0;34m,\u001b[0m \u001b[0;34m**\u001b[0m\u001b[0mkwds\u001b[0m\u001b[0;34m)\u001b[0m\u001b[0;34m\u001b[0m\u001b[0;34m\u001b[0m\u001b[0m\n\u001b[0m\u001b[1;32m   2011\u001b[0m         \u001b[0mself\u001b[0m\u001b[0;34m.\u001b[0m\u001b[0munnamed_cols\u001b[0m \u001b[0;34m=\u001b[0m \u001b[0mself\u001b[0m\u001b[0;34m.\u001b[0m\u001b[0m_reader\u001b[0m\u001b[0;34m.\u001b[0m\u001b[0munnamed_cols\u001b[0m\u001b[0;34m\u001b[0m\u001b[0;34m\u001b[0m\u001b[0m\n\u001b[1;32m   2012\u001b[0m \u001b[0;34m\u001b[0m\u001b[0m\n",
            "\u001b[0;32mpandas/_libs/parsers.pyx\u001b[0m in \u001b[0;36mpandas._libs.parsers.TextReader.__cinit__\u001b[0;34m()\u001b[0m\n",
            "\u001b[0;32mpandas/_libs/parsers.pyx\u001b[0m in \u001b[0;36mpandas._libs.parsers.TextReader._get_header\u001b[0;34m()\u001b[0m\n",
            "\u001b[0;32mpandas/_libs/parsers.pyx\u001b[0m in \u001b[0;36mpandas._libs.parsers.TextReader._tokenize_rows\u001b[0;34m()\u001b[0m\n",
            "\u001b[0;32mpandas/_libs/parsers.pyx\u001b[0m in \u001b[0;36mpandas._libs.parsers.raise_parser_error\u001b[0;34m()\u001b[0m\n",
            "\u001b[0;31mParserError\u001b[0m: Error tokenizing data. C error: Calling read(nbytes) on source failed. Try engine='python'."
          ]
        }
      ]
    },
    {
      "cell_type": "code",
      "metadata": {
        "colab": {
          "base_uri": "https://localhost:8080/",
          "height": 49
        },
        "id": "JVtu8cvBsbLh",
        "outputId": "81fab503-e851-47a4-d66e-829db0f211fc"
      },
      "source": [
        "final_data"
      ],
      "execution_count": null,
      "outputs": [
        {
          "output_type": "execute_result",
          "data": {
            "text/html": [
              "<div>\n",
              "<style scoped>\n",
              "    .dataframe tbody tr th:only-of-type {\n",
              "        vertical-align: middle;\n",
              "    }\n",
              "\n",
              "    .dataframe tbody tr th {\n",
              "        vertical-align: top;\n",
              "    }\n",
              "\n",
              "    .dataframe thead th {\n",
              "        text-align: right;\n",
              "    }\n",
              "</style>\n",
              "<table border=\"1\" class=\"dataframe\">\n",
              "  <thead>\n",
              "    <tr style=\"text-align: right;\">\n",
              "      <th></th>\n",
              "      <th>ECG_RA</th>\n",
              "      <th>ECG_LA</th>\n",
              "      <th>GSR</th>\n",
              "      <th>AF3</th>\n",
              "      <th>F7</th>\n",
              "      <th>F3</th>\n",
              "      <th>FC5</th>\n",
              "      <th>T7</th>\n",
              "      <th>P7</th>\n",
              "      <th>01</th>\n",
              "      <th>02</th>\n",
              "      <th>P8</th>\n",
              "      <th>T8</th>\n",
              "      <th>FC6</th>\n",
              "      <th>F4</th>\n",
              "      <th>F8</th>\n",
              "      <th>AF4</th>\n",
              "      <th>emotion</th>\n",
              "    </tr>\n",
              "  </thead>\n",
              "  <tbody>\n",
              "  </tbody>\n",
              "</table>\n",
              "</div>"
            ],
            "text/plain": [
              "Empty DataFrame\n",
              "Columns: [ECG_RA, ECG_LA, GSR, AF3, F7, F3, FC5, T7, P7, 01, 02, P8, T8, FC6, F4, F8, AF4, emotion]\n",
              "Index: []"
            ]
          },
          "metadata": {
            "tags": []
          },
          "execution_count": 10
        }
      ]
    },
    {
      "cell_type": "markdown",
      "metadata": {
        "id": "yVCi4BrwsiKz"
      },
      "source": [
        "# SAVE RESULTS"
      ]
    },
    {
      "cell_type": "code",
      "metadata": {
        "id": "uj2dlJ6SsdnT"
      },
      "source": [
        "final_data.to_csv(root_directory+'data/deep_learning_data_skipped.csv')"
      ],
      "execution_count": null,
      "outputs": []
    },
    {
      "cell_type": "markdown",
      "metadata": {
        "id": "WKKt2xo9x8zM"
      },
      "source": [
        "# **LET's GO WITH THE MODELLING!**"
      ]
    },
    {
      "cell_type": "markdown",
      "metadata": {
        "id": "S3vihOhY0NW6"
      },
      "source": [
        "### DATA LOADING\r\n"
      ]
    },
    {
      "cell_type": "code",
      "metadata": {
        "colab": {
          "base_uri": "https://localhost:8080/"
        },
        "id": "NDThtbMqzocw",
        "outputId": "9aeb4403-1c12-4165-9d05-b6724ee08a8e"
      },
      "source": [
        "data = pd.read_csv(root_directory+\"data/deep_learning_data_skipped.csv\")\r\n",
        "\r\n",
        "#print columns and their respective types\r\n",
        "print(data.info())\r\n",
        "#print the class distribution\r\n",
        "print('Class distribution', Counter(data['emotion']))\r\n",
        "#print(data.head())"
      ],
      "execution_count": 4,
      "outputs": [
        {
          "output_type": "stream",
          "text": [
            "<class 'pandas.core.frame.DataFrame'>\n",
            "RangeIndex: 344 entries, 0 to 343\n",
            "Data columns (total 19 columns):\n",
            " #   Column      Non-Null Count  Dtype  \n",
            "---  ------      --------------  -----  \n",
            " 0   Unnamed: 0  344 non-null    int64  \n",
            " 1   ECG_RA      337 non-null    float64\n",
            " 2   ECG_LA      337 non-null    float64\n",
            " 3   GSR         344 non-null    float64\n",
            " 4   AF3         328 non-null    float64\n",
            " 5   F7          328 non-null    float64\n",
            " 6   F3          328 non-null    float64\n",
            " 7   FC5         328 non-null    float64\n",
            " 8   T7          328 non-null    float64\n",
            " 9   P7          328 non-null    float64\n",
            " 10  01          328 non-null    float64\n",
            " 11  02          328 non-null    float64\n",
            " 12  P8          328 non-null    float64\n",
            " 13  T8          328 non-null    float64\n",
            " 14  FC6         328 non-null    float64\n",
            " 15  F4          328 non-null    float64\n",
            " 16  F8          328 non-null    float64\n",
            " 17  AF4         328 non-null    float64\n",
            " 18  emotion     344 non-null    object \n",
            "dtypes: float64(17), int64(1), object(1)\n",
            "memory usage: 51.2+ KB\n",
            "None\n",
            "Class distribution Counter({'anger': 125, 'neutral': 99, 'fear': 44, 'happiness': 25, 'sadness': 18, 'disgust': 17, 'surprise': 16})\n"
          ],
          "name": "stdout"
        }
      ]
    },
    {
      "cell_type": "markdown",
      "metadata": {
        "id": "dVBHzov_4cQ4"
      },
      "source": [
        "*Deal with null values*"
      ]
    },
    {
      "cell_type": "code",
      "metadata": {
        "colab": {
          "base_uri": "https://localhost:8080/"
        },
        "id": "CwGdhbcC4b5D",
        "outputId": "9dea9eab-68a2-4333-ff5b-5cd01f22bc06"
      },
      "source": [
        "data.isna().sum()"
      ],
      "execution_count": 5,
      "outputs": [
        {
          "output_type": "execute_result",
          "data": {
            "text/plain": [
              "Unnamed: 0     0\n",
              "ECG_RA         7\n",
              "ECG_LA         7\n",
              "GSR            0\n",
              "AF3           16\n",
              "F7            16\n",
              "F3            16\n",
              "FC5           16\n",
              "T7            16\n",
              "P7            16\n",
              "01            16\n",
              "02            16\n",
              "P8            16\n",
              "T8            16\n",
              "FC6           16\n",
              "F4            16\n",
              "F8            16\n",
              "AF4           16\n",
              "emotion        0\n",
              "dtype: int64"
            ]
          },
          "metadata": {
            "tags": []
          },
          "execution_count": 5
        }
      ]
    },
    {
      "cell_type": "code",
      "metadata": {
        "id": "M290wQgx5Awk"
      },
      "source": [
        "data.drop(['Unnamed: 0'], axis=1, inplace=True)"
      ],
      "execution_count": 6,
      "outputs": []
    },
    {
      "cell_type": "code",
      "metadata": {
        "id": "PrUvbtrK43B_"
      },
      "source": [
        "data.dropna(axis=0, how='any', thresh=None, subset=None, inplace=True)"
      ],
      "execution_count": 7,
      "outputs": []
    },
    {
      "cell_type": "code",
      "metadata": {
        "colab": {
          "base_uri": "https://localhost:8080/"
        },
        "id": "R3AWMviU5W8s",
        "outputId": "e46cdd4a-7a6d-41d8-bee0-153d17ed9166"
      },
      "source": [
        "print(data.isna().sum())\r\n",
        "print('Class distribution', Counter(data['emotion']))"
      ],
      "execution_count": 8,
      "outputs": [
        {
          "output_type": "stream",
          "text": [
            "ECG_RA     0\n",
            "ECG_LA     0\n",
            "GSR        0\n",
            "AF3        0\n",
            "F7         0\n",
            "F3         0\n",
            "FC5        0\n",
            "T7         0\n",
            "P7         0\n",
            "01         0\n",
            "02         0\n",
            "P8         0\n",
            "T8         0\n",
            "FC6        0\n",
            "F4         0\n",
            "F8         0\n",
            "AF4        0\n",
            "emotion    0\n",
            "dtype: int64\n",
            "Class distribution Counter({'anger': 116, 'neutral': 96, 'fear': 42, 'happiness': 24, 'sadness': 16, 'surprise': 14, 'disgust': 13})\n"
          ],
          "name": "stdout"
        }
      ]
    },
    {
      "cell_type": "code",
      "metadata": {
        "colab": {
          "base_uri": "https://localhost:8080/"
        },
        "id": "qN7i6uzD421U",
        "outputId": "2d043b27-ebde-4116-e494-2c552030d08f"
      },
      "source": [
        "print(data.head())"
      ],
      "execution_count": 9,
      "outputs": [
        {
          "output_type": "stream",
          "text": [
            "   ECG_RA  ECG_LA      GSR  ...           F8          AF4  emotion\n",
            "0  2044.0  2052.0  34996.0  ...  4500.000000  4664.615385    anger\n",
            "1  2083.0  2065.0  35699.0  ...  4514.358974  4657.948718    anger\n",
            "2  2045.0  2049.0  34669.0  ...  4510.256410  4702.051282    anger\n",
            "3  2103.0  2098.0  35073.0  ...  4492.820513  4644.615385    anger\n",
            "4  2043.0  2050.0  35331.0  ...  4496.923077  4657.948718    anger\n",
            "\n",
            "[5 rows x 18 columns]\n"
          ],
          "name": "stdout"
        }
      ]
    },
    {
      "cell_type": "code",
      "metadata": {
        "id": "ZYAvJG_90D9p"
      },
      "source": [
        "#extract the features from the training data\r\n",
        "y = data['emotion'] #other way: data['emotion']\r\n",
        "X = data[['ECG_RA', 'ECG_LA', 'GSR', 'AF3', 'F7', 'F3', 'FC5', 'T7', 'P7', '01', '02', 'P8', 'T8', 'FC6', 'F4', 'F8', 'AF4']]"
      ],
      "execution_count": 28,
      "outputs": []
    },
    {
      "cell_type": "markdown",
      "metadata": {
        "id": "9Do8bdXI0Vv8"
      },
      "source": [
        "### DATA PREPROCESSING"
      ]
    },
    {
      "cell_type": "code",
      "metadata": {
        "id": "_Ou-uz9b0EMe"
      },
      "source": [
        "#x = pd.get_dummies(x) #we don't have any strings\r\n",
        "X_train, X_test, y_train, y_test = train_test_split(X, y, test_size=0.20, random_state=23)\r\n",
        "#ct = ColumnTransformer([('numeric', StandardScaler(), ['age','creatinine_phosphokinase','ejection_fraction','platelets','serum_creatinine','serum_sodium','time'])])\r\n",
        "ct = StandardScaler()\r\n",
        "X_train = ct.fit_transform(X_train)\r\n",
        "X_test = ct.transform(X_test)"
      ],
      "execution_count": 29,
      "outputs": []
    },
    {
      "cell_type": "markdown",
      "metadata": {
        "id": "C_TUoEjp5z86"
      },
      "source": [
        "### PREPARE LABELS FOR CLASSIFICATION\r\n",
        "\r\n"
      ]
    },
    {
      "cell_type": "code",
      "metadata": {
        "id": "9o8qBD9m55yJ"
      },
      "source": [
        "#encode the labels into integers\r\n",
        "le = LabelEncoder()\r\n",
        "#convert the integer encoded labels into binary vectors\r\n",
        "y_train = le.fit_transform(y_train.astype(str))\r\n",
        "y_test = le.transform(y_test.astype(str))\r\n",
        "y_train = to_categorical(y_train)\r\n",
        "y_test = to_categorical(y_test)\r\n",
        "#convert the integer encoded labels into binary vectors\r\n",
        "#YOU CAN COMMENT FOLLOWING 2 LINES IF YOU CHANGE LOSS='sparse_categorical_crossentropy' in model.compile \r\n",
        "#(then there is no need to one-hot encode strings to integers)\r\n",
        "#y_train = tensorflow.keras.utils.to_categorical(y_train, dtype = 'int64')\r\n",
        "#y_test = tensorflow.keras.utils.to_categorical(y_test, dtype = 'int64')"
      ],
      "execution_count": 33,
      "outputs": []
    },
    {
      "cell_type": "markdown",
      "metadata": {
        "id": "D3jzQWEh8FAQ"
      },
      "source": [
        "## DESIGN THE MODEL"
      ]
    },
    {
      "cell_type": "code",
      "metadata": {
        "id": "hFWJX-hG8UAf"
      },
      "source": [
        "#design the model\r\n",
        "model = Sequential()\r\n",
        "#add the input layer\r\n",
        "model.add(InputLayer(input_shape=(X_train.shape[1],)))\r\n",
        "#add a hidden layer\r\n",
        "#model.add(Dense(64, activation='relu'))\r\n",
        "#add more layers\r\n",
        "model.add(Dense(512))\r\n",
        "model.add(Dense(128))\r\n",
        "#add an output layer\r\n",
        "model.add(Dense(7, activation='softmax')) #change activation='softmax' or 'sigmoid'\r\n",
        "\r\n",
        "#compile the model\r\n",
        "model.compile(loss='categorical_crossentropy', optimizer='adam', metrics=['accuracy']) # change loss='categorical_crossentropy' or 'binary_crossentropy'"
      ],
      "execution_count": 79,
      "outputs": []
    },
    {
      "cell_type": "markdown",
      "metadata": {
        "id": "k9REMt7w8glM"
      },
      "source": [
        "## TRAIN AND EVALUATE MODEL"
      ]
    },
    {
      "cell_type": "code",
      "metadata": {
        "colab": {
          "base_uri": "https://localhost:8080/"
        },
        "id": "ohTj1oMlu8RH",
        "outputId": "51849ac3-a123-496a-f412-6f39e60aca9a"
      },
      "source": [
        "model.summary()"
      ],
      "execution_count": 80,
      "outputs": [
        {
          "output_type": "stream",
          "text": [
            "Model: \"sequential_10\"\n",
            "_________________________________________________________________\n",
            "Layer (type)                 Output Shape              Param #   \n",
            "=================================================================\n",
            "dense_21 (Dense)             (None, 512)               9216      \n",
            "_________________________________________________________________\n",
            "dense_22 (Dense)             (None, 128)               65664     \n",
            "_________________________________________________________________\n",
            "dense_23 (Dense)             (None, 7)                 903       \n",
            "=================================================================\n",
            "Total params: 75,783\n",
            "Trainable params: 75,783\n",
            "Non-trainable params: 0\n",
            "_________________________________________________________________\n"
          ],
          "name": "stdout"
        }
      ]
    },
    {
      "cell_type": "code",
      "metadata": {
        "colab": {
          "base_uri": "https://localhost:8080/"
        },
        "id": "VlWttPaQ8g18",
        "outputId": "c5795594-eb4d-42bf-9fa5-42452e0ad38a"
      },
      "source": [
        "#train and evaluate the model\r\n",
        "history = model.fit(X_train, y_train, epochs = 100, batch_size = 16, verbose = 0, validation_split=0.2)\r\n",
        "#Assign the result to a variable called loss (representing the final loss value) and a variable called acc (representing the accuracy metrics), respectively.\r\n",
        "loss, acc = model.evaluate(X_test, y_test, verbose=0)\r\n",
        "print('Loss', loss, 'Accuracy', acc)"
      ],
      "execution_count": 81,
      "outputs": [
        {
          "output_type": "stream",
          "text": [
            "Loss 2.9031097888946533 Accuracy 0.35384616255760193\n"
          ],
          "name": "stdout"
        }
      ]
    },
    {
      "cell_type": "markdown",
      "metadata": {
        "id": "MYDhaTaw9Trb"
      },
      "source": [
        "## CLASSIFICATION_REPORT"
      ]
    },
    {
      "cell_type": "code",
      "metadata": {
        "colab": {
          "base_uri": "https://localhost:8080/"
        },
        "id": "LnEv-9V5x8UA",
        "outputId": "a97369f5-4fe1-4bbc-cf2f-4ba922600932"
      },
      "source": [
        "#GENERATING A CLASSIFICATION REPORT\r\n",
        "#get the predictions for the test data X_test\r\n",
        "y_estimate = model.predict(X_test, verbose=0)\r\n",
        "#select the indices of the true classes for each label encoding in y_estimate\r\n",
        "y_estimate = np.argmax(y_estimate, axis=1)\r\n",
        "#select the indices of the true classes for each label encoding in Y_test\r\n",
        "y_true = np.argmax(y_test, axis=1)\r\n",
        "#print additional metrics\r\n",
        "print(classification_report(y_true, y_estimate))"
      ],
      "execution_count": 82,
      "outputs": [
        {
          "output_type": "stream",
          "text": [
            "              precision    recall  f1-score   support\n",
            "\n",
            "           0       0.41      0.55      0.47        20\n",
            "           1       0.00      0.00      0.00         1\n",
            "           2       0.33      0.30      0.32        10\n",
            "           3       0.00      0.00      0.00         6\n",
            "           4       0.42      0.38      0.40        21\n",
            "           5       0.00      0.00      0.00         5\n",
            "           6       0.17      0.50      0.25         2\n",
            "\n",
            "    accuracy                           0.35        65\n",
            "   macro avg       0.19      0.25      0.20        65\n",
            "weighted avg       0.32      0.35      0.33        65\n",
            "\n"
          ],
          "name": "stdout"
        },
        {
          "output_type": "stream",
          "text": [
            "/usr/local/lib/python3.6/dist-packages/sklearn/metrics/_classification.py:1272: UndefinedMetricWarning: Precision and F-score are ill-defined and being set to 0.0 in labels with no predicted samples. Use `zero_division` parameter to control this behavior.\n",
            "  _warn_prf(average, modifier, msg_start, len(result))\n"
          ],
          "name": "stderr"
        }
      ]
    },
    {
      "cell_type": "code",
      "metadata": {
        "colab": {
          "base_uri": "https://localhost:8080/",
          "height": 422
        },
        "id": "Y7JCp3rix1ux",
        "outputId": "2bd16eb2-df7a-4136-d8b1-55847fdf3a63"
      },
      "source": [
        "plot_model(model, to_file='model.png', show_shapes =True, show_layer_names = False)"
      ],
      "execution_count": 83,
      "outputs": [
        {
          "output_type": "execute_result",
          "data": {
            "image/png": "[encoded data removed]",
            "text/plain": [
              "<IPython.core.display.Image object>"
            ]
          },
          "metadata": {
            "tags": []
          },
          "execution_count": 83
        }
      ]
    },
    {
      "cell_type": "code",
      "metadata": {
        "colab": {
          "base_uri": "https://localhost:8080/"
        },
        "id": "1AsMW4Lgx8Ts",
        "outputId": "13b40859-2b15-4943-d442-5690eeaaac60"
      },
      "source": [
        "score = model.evaluate(X_train, y_train, verbose=0)\r\n",
        "print('Train loss:', score[0]) \r\n",
        "print('Train accuracy:', score[1])\r\n",
        "score = model.evaluate(X_test, y_test, verbose=0)\r\n",
        "print('Test loss:', score[0]) \r\n",
        "print('Test accuracy:', score[1])"
      ],
      "execution_count": 84,
      "outputs": [
        {
          "output_type": "stream",
          "text": [
            "Train loss: 1.4478693008422852\n",
            "Train accuracy: 0.45703125\n",
            "Test loss: 2.9031097888946533\n",
            "Test accuracy: 0.35384616255760193\n"
          ],
          "name": "stdout"
        }
      ]
    },
    {
      "cell_type": "code",
      "metadata": {
        "colab": {
          "base_uri": "https://localhost:8080/",
          "height": 297
        },
        "id": "ECmOxxpLyYN1",
        "outputId": "3287b05b-53c3-4703-8637-475df7044afb"
      },
      "source": [
        "fig = plt.figure()\r\n",
        "fig.set_size_inches(12, 4)\r\n",
        "plt.subplot(1,2,1)\r\n",
        "plt.plot(model_log.history['accuracy'])\r\n",
        "plt.plot(model_log.history['val_accuracy'])\r\n",
        "plt.title('model accuracy')\r\n",
        "plt.ylabel('accuracy')\r\n",
        "plt.xlabel('epoch')\r\n",
        "plt.legend(['train', 'test'], loc='lower right')\r\n",
        "plt.subplot(1,2,2)\r\n",
        "plt.plot(model_log.history['loss'])\r\n",
        "plt.plot(model_log.history['val_loss'])\r\n",
        "plt.title('model loss')\r\n",
        "plt.ylabel('loss')\r\n",
        "plt.xlabel('epoch')\r\n",
        "plt.legend(['train', 'test'], loc='upper right')\r\n",
        "plt.tight_layout()\r\n",
        "plt.show()\r\n"
      ],
      "execution_count": 85,
      "outputs": [
        {
          "output_type": "display_data",
          "data": {
            "image/png": "[encoded data removed]",
            "text/plain": [
              "<Figure size 864x288 with 2 Axes>"
            ]
          },
          "metadata": {
            "tags": [],
            "needs_background": "light"
          }
        }
      ]
    }
  ]
}